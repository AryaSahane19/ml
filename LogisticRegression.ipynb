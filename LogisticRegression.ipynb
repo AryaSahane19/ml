{
 "cells": [
  {
   "cell_type": "code",
   "execution_count": 1,
   "id": "04691fbd",
   "metadata": {},
   "outputs": [
    {
     "name": "stdout",
     "output_type": "stream",
     "text": [
      "Enter Annual Income (Lakhs): 14 12 18 20\n",
      "Enter Savings (Lakhs): 2 7 10 7\n",
      "Enter Loan Sanction (0 or 1): 0 1 1 0\n",
      "B0: 0.0853, B1: -0.9904, B2: 2.2425\n",
      "Enter Annual Income (Lakhs): 13\n",
      "Enter Savings (Lakhs): 2\n",
      "Loan Not Sanctioned\n"
     ]
    }
   ],
   "source": [
    "import math\n",
    "# math.exp used instead of e = 2.7182818284 for sigmoid function\n",
    "# Input data\n",
    "x1 = list(map(float, input(\"Enter Annual Income (Lakhs): \").split()))\n",
    "x2 = list(map(float, input(\"Enter Savings (Lakhs): \").split()))\n",
    "y = list(map(int, input(\"Enter Loan Sanction (0 or 1): \").split()))\n",
    "\n",
    "# Initialize parameters\n",
    "b0, b1, b2 = 0.0, 0.0, 0.0\n",
    "alpha = 0.3  # Learning rate\n",
    "epochs = 1000  # Number of iterations\n",
    "\n",
    "# Training the model\n",
    "for _ in range(epochs):\n",
    "    for i in range(len(x1)):\n",
    "        # Logistic function (sigmoid)\n",
    "        linear_combination = b0 + b1 * x1[i] + b2 * x2[i]\n",
    "        prediction = 1 / (1 + math.exp(-linear_combination))    \n",
    "  # Gradient descent updates\n",
    "        error = y[i] - prediction\n",
    "        b0 += alpha * error * prediction * (1 - prediction)\n",
    "        b1 += alpha * error * prediction * (1 - prediction) * x1[i]\n",
    "        b2 += alpha * error * prediction * (1 - prediction) * x2[i]\n",
    "\n",
    "# Output the parameters\n",
    "print(f\"B0: {b0:.4f}, B1: {b1:.4f}, B2: {b2:.4f}\")\n",
    "\n",
    "# Predict on new data\n",
    "testx1 = float(input(\"Enter Annual Income (Lakhs): \"))\n",
    "testx2 = float(input(\"Enter Savings (Lakhs): \"))\n",
    "\n",
    "# Logistic function (sigmoid) for new data\n",
    "test_prediction = 1 / (1 + math.exp(-(b0 + b1 * testx1 + b2 * testx2)))\n",
    "\n",
    "if test_prediction > 0.5:\n",
    "    print(\"Loan Sanctioned\")\n",
    "else:\n",
    "    print(\"Loan Not Sanctioned\")\n"
   ]
  }
 ],
 "metadata": {
  "kernelspec": {
   "display_name": "Python 3 (ipykernel)",
   "language": "python",
   "name": "python3"
  },
  "language_info": {
   "codemirror_mode": {
    "name": "ipython",
    "version": 3
   },
   "file_extension": ".py",
   "mimetype": "text/x-python",
   "name": "python",
   "nbconvert_exporter": "python",
   "pygments_lexer": "ipython3",
   "version": "3.9.13"
  }
 },
 "nbformat": 4,
 "nbformat_minor": 5
}
