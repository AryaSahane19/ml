{
 "cells": [
  {
   "cell_type": "code",
   "execution_count": 2,
   "id": "2cad6912",
   "metadata": {
    "scrolled": true
   },
   "outputs": [
    {
     "name": "stdout",
     "output_type": "stream",
     "text": [
      "Enter X data: 1, 2, 3, 4, 5, 6, 7, 8, 9, 10\n",
      "Enter Y data: 3, 4, 2, 4, 5, 7, 8, 12, 10, 13\n",
      "B0: 0.2666666666666657 B1: 1.187878787878788\n",
      "Equation: y = 0.2666666666666657 + 1.187878787878788 x\n"
     ]
    },
    {
     "data": {
      "image/png": "[encoded data removed]",
      "text/plain": [
       "<Figure size 640x480 with 1 Axes>"
      ]
     },
     "metadata": {},
     "output_type": "display_data"
    }
   ],
   "source": [
    "from math import sqrt\n",
    "import seaborn as sns\n",
    "import matplotlib.pyplot as plt\n",
    "\n",
    "# Input X and Y data from user, assuming comma-separated values\n",
    "x = list(map(int, input(\"Enter X data: \").split(\", \")))\n",
    "y = list(map(int, input(\"Enter Y data: \").split(\", \")))\n",
    "\n",
    "n = len(x)  # Number of data points\n",
    "\n",
    "# Calculate mean of X and Y\n",
    "xmean = sum(x) / n\n",
    "ymean = sum(y) / n\n",
    "\n",
    "# Calculate deviations a = (x_i - xmean) and b = (y_i - ymean)\n",
    "a = [x[i] - xmean for i in range(n)]\n",
    "b = [y[i] - ymean for i in range(n)]\n",
    "\n",
    "# Calculate ab, a^2, and b^2\n",
    "ab = [a[i] * b[i] for i in range(n)]\n",
    "asqaure = [a[i]**2 for i in range(n)]\n",
    "bsquare = [b[i]**2 for i in range(n)]\n",
    "\n",
    "# Calculate correlation coefficient r\n",
    "r = sum(ab) / sqrt(sum(asqaure) * sum(asqaure))\n",
    "\n",
    "# Calculate standard deviations of y (dely) and x (delx)\n",
    "dely = sqrt(sum(bsquare)) / sqrt(n - 1)\n",
    "delx = sqrt(sum(bsquare)) / sqrt(n - 1)\n",
    "\n",
    "# Calculate slope (b1) and intercept (b0) of the regression line\n",
    "b1 = r * (dely / delx)\n",
    "b0 = ymean - b1 * xmean\n",
    "\n",
    "# Print coefficients and regression equation\n",
    "print(\"B0:\", b0, \"B1:\", b1)\n",
    "print(\"Equation: y =\", b0, \"+\", b1, \"x\")\n",
    "\n",
    "# Plotting using seaborn and matplotlib\n",
    "sns.scatterplot(x=x, y=y)  # Scatter plot of the data points\n",
    "xpred = [i for i in range(min(x), max(x) + 1)] # Range of x values for prediction\n",
    "ypred = [b0 + (b1 * i) for i in xpred] # Predicted y values using regression equation\n",
    "sns.lineplot(x=xpred, y=ypred)  # Plotting the regression line\n",
    "\n",
    "# Adding labels and title to the plot\n",
    "plt.xlabel('X')\n",
    "plt.ylabel('Y')\n",
    "plt.title('Linear Regression Fit')\n",
    "\n",
    "plt.show()  # Display the plot\n"
   ]
  },
  {
   "cell_type": "code",
   "execution_count": 5,
   "id": "92b878db",
   "metadata": {
    "scrolled": false
   },
   "outputs": [
    {
     "name": "stdout",
     "output_type": "stream",
     "text": [
      "x\ty\tp=x-x'\tq=y-y'\t\t p^2\t\tq^2\t\tp*q\n",
      "1\t3\t-4.5\t-3.8\t\t20.25\t\t14.44\t\t17.1\n",
      "2\t4\t-3.5\t-2.8\t\t12.25\t\t7.84\t\t9.8\n",
      "3\t2\t-2.5\t-4.8\t\t6.25\t\t23.04\t\t12.0\n",
      "4\t4\t-1.5\t-2.8\t\t2.25\t\t7.84\t\t4.2\n",
      "5\t5\t-0.5\t-1.8\t\t0.25\t\t3.24\t\t0.9\n",
      "6\t7\t0.5\t0.2\t\t0.25\t\t0.04\t\t0.1\n",
      "7\t8\t1.5\t1.2\t\t2.25\t\t1.44\t\t1.8\n",
      "8\t12\t2.5\t5.2\t\t6.25\t\t27.04\t\t13.0\n",
      "9\t10\t3.5\t3.2\t\t12.25\t\t10.24\t\t11.2\n",
      "10\t13\t4.5\t6.2\t\t20.25\t\t38.44\t\t27.9\n",
      "x'= 5.5\n",
      "y'= 6.8\n",
      "Sum x-x' =  82.5\n",
      "Sum y-y' =  133.6\n",
      "(x-x')(y-y') =  98.0\n",
      "r 0.93\n",
      "b 1.19\n",
      "a 0.27\n",
      "Line of Regression: y = 0.27+1.19*x\n",
      "Enter the x value: 9\n",
      "For x =  9.0\n",
      "y =  10.96\n"
     ]
    }
   ],
   "source": [
    "# import library used for numerical computations in python\n",
    "import numpy \n",
    "\n",
    "# Define the data points\n",
    "x = [1, 2, 3, 4, 5, 6, 7, 8, 9, 10]\n",
    "y = [3, 4, 2, 4, 5, 7, 8, 12, 10, 13]\n",
    "\n",
    "# Calculate mean of x and y\n",
    "meanx = numpy.mean(x)\n",
    "meany = numpy.mean(y)\n",
    "\n",
    "# Initialize lists to store deviations and squared deviations\n",
    "xsubmean = []\n",
    "ysubmean = []\n",
    "xsubmeansq = []\n",
    "ysubmeansq = []\n",
    "xsubmeanysubmean = []\n",
    "\n",
    "# Calculate deviations and squared deviations\n",
    "for i in range(len(x)):\n",
    "    xsubmean.append(x[i] - meanx)\n",
    "    ysubmean.append(y[i] - meany)\n",
    "    xsubmeansq.append(xsubmean[i]**2)\n",
    "    ysubmeansq.append(ysubmean[i]**2)\n",
    "    xsubmeanysubmean.append(xsubmean[i] * ysubmean[i])\n",
    "\n",
    "# Print headers for the table\n",
    "print(\"x\\ty\\tp=x-x'\\tq=y-y'\\t\\t p^2\\t\\tq^2\\t\\tp*q\")\n",
    "# Print each data point with respective deviations and squared deviations\n",
    "for i in range(len(x)):\n",
    "    print(str(x[i]) + \"\\t\" + str(y[i]) + \"\\t\" +\n",
    "          str(round(xsubmean[i], 2)) + \"\\t\" + str(round(ysubmean[i], 2)) + \n",
    "          \"\\t\\t\" + str(round(xsubmeansq[i], 2)) + \"\\t\\t\" +\n",
    "          str(round(ysubmeansq[i], 2)) + \"\\t\\t\" +\n",
    "          str(round(xsubmeanysubmean[i], 2)))\n",
    "# Calculate sums of squared deviations and product of deviations\n",
    "xsubmeansqsum = sum(xsubmeansq)\n",
    "ysubmeansqsum = sum(ysubmeansq)\n",
    "xsubmeanysubmeansum = sum(xsubmeanysubmean)\n",
    "\n",
    "# Print mean values and sums\n",
    "print(\"x'=\", meanx)\n",
    "print(\"y'=\", meany)\n",
    "print(\"Sum x-x' = \", round(xsubmeansqsum, 2))\n",
    "print(\"Sum y-y' = \", round(ysubmeansqsum, 2))\n",
    "print(\"(x-x')(y-y') = \", round(xsubmeanysubmeansum, 2))\n",
    "\n",
    "# Calculate correlation coefficient (Pearson's r)\n",
    "r = xsubmeanysubmeansum / ((xsubmeansqsum * ysubmeansqsum)**0.5)\n",
    "print(\"r\", round(r, 2))\n",
    "\n",
    "# Calculate slope of the regression line (b)\n",
    "b = xsubmeanysubmeansum / xsubmeansqsum\n",
    "print(\"b\", round(b, 2))\n",
    "\n",
    "# Calculate intercept of the regression line (a)\n",
    "a = meany - (b * meanx)\n",
    "print(\"a\", round(a, 2))\n",
    "\n",
    "# Print equation of the regression line\n",
    "print(\"Line of Regression: y = \" + str(round(a, 2)) + \"+\" + str(round(b, 2)) + \"*x\")\n",
    "\n",
    "# Predict y for a given x value entered by the user\n",
    "xh = float(input(\"Enter the x value: \"))\n",
    "yk = a + b * xh\n",
    "print(\"For x = \", xh)\n",
    "print(\"y = \", round(yk, 2))\n"
   ]
  }
 ],
 "metadata": {
  "kernelspec": {
   "display_name": "Python 3 (ipykernel)",
   "language": "python",
   "name": "python3"
  },
  "language_info": {
   "codemirror_mode": {
    "name": "ipython",
    "version": 3
   },
   "file_extension": ".py",
   "mimetype": "text/x-python",
   "name": "python",
   "nbconvert_exporter": "python",
   "pygments_lexer": "ipython3",
   "version": "3.9.13"
  }
 },
 "nbformat": 4,
 "nbformat_minor": 5
}
